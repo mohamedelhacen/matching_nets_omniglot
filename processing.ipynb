{
 "cells": [
  {
   "cell_type": "markdown",
   "id": "80624989-9680-4426-9d0a-2589a09e4fd7",
   "metadata": {},
   "source": [
    "# Imports "
   ]
  },
  {
   "cell_type": "code",
   "execution_count": 16,
   "id": "b88e54d1-33b2-4a50-a757-2ffdfdf57992",
   "metadata": {},
   "outputs": [],
   "source": [
    "import numpy as np \n",
    "import matplotlib.pyplot as plt\n",
    "\n",
    "import random"
   ]
  },
  {
   "cell_type": "code",
   "execution_count": 2,
   "id": "7cffac0d-2e15-417d-a93a-00994aaed642",
   "metadata": {},
   "outputs": [],
   "source": [
    "from torchvision import transforms\n",
    "from torchvision.datasets import Omniglot"
   ]
  },
  {
   "cell_type": "markdown",
   "id": "e2557a53-c5e3-471a-9f9f-e158fec491e5",
   "metadata": {},
   "source": [
    "# Constanst "
   ]
  },
  {
   "cell_type": "code",
   "execution_count": 3,
   "id": "cbdc6cb0-b684-4c9f-92c0-37b4d966d37c",
   "metadata": {},
   "outputs": [],
   "source": [
    "IMAGE_SIZE = 224"
   ]
  },
  {
   "cell_type": "code",
   "execution_count": 4,
   "id": "c56722af-3e0e-4366-baaf-d4c73a2ce0e0",
   "metadata": {
    "tags": []
   },
   "outputs": [
    {
     "name": "stdout",
     "output_type": "stream",
     "text": [
      "Files already downloaded and verified\n",
      "Files already downloaded and verified\n"
     ]
    }
   ],
   "source": [
    "train_set = Omniglot(\n",
    "    root = './data',\n",
    "    background = True,\n",
    "    transform = transforms.Compose(\n",
    "        [\n",
    "            transforms.Grayscale(num_output_channels=3), \n",
    "            transforms.RandomResizedCrop(IMAGE_SIZE),\n",
    "            transforms.RandomHorizontalFlip(),\n",
    "            transforms.ToTensor()\n",
    "        ]\n",
    "    ), \n",
    "    download = True \n",
    "\n",
    ")\n",
    "\n",
    "test_set = Omniglot(\n",
    "    root = './data',\n",
    "    background = False, \n",
    "    transform = transforms.Compose(\n",
    "        [\n",
    "            transforms.Grayscale(num_output_channels=3), \n",
    "            transforms.Resize([int(IMAGE_SIZE * 1.15), int(IMAGE_SIZE * 1.15)]),\n",
    "            transforms.CenterCrop(IMAGE_SIZE),\n",
    "            transforms.ToTensor()\n",
    "        ]\n",
    "    ), \n",
    "    download = True \n",
    "\n",
    ")"
   ]
  },
  {
   "cell_type": "code",
   "execution_count": 47,
   "id": "46e69987-1d4b-4dc2-b34c-5e3fba6c5fcf",
   "metadata": {},
   "outputs": [],
   "source": [
    "idx = random.randint(0, len(test_set))"
   ]
  },
  {
   "cell_type": "code",
   "execution_count": 48,
   "id": "ec8af4d3-cca9-4a76-96b0-9ca01ea5e710",
   "metadata": {},
   "outputs": [],
   "source": [
    "img1, label1 = test_set._flat_character_images[idx]"
   ]
  },
  {
   "cell_type": "code",
   "execution_count": 49,
   "id": "fc034fbf-7aa9-42a2-b08e-479aef7eb392",
   "metadata": {},
   "outputs": [
    {
     "data": {
      "text/plain": [
       "'1364_19.png'"
      ]
     },
     "execution_count": 49,
     "metadata": {},
     "output_type": "execute_result"
    }
   ],
   "source": [
    "img1"
   ]
  },
  {
   "cell_type": "code",
   "execution_count": 50,
   "id": "f6d9915e-59d5-41d0-aef2-399f0e2b9b99",
   "metadata": {},
   "outputs": [
    {
     "data": {
      "text/plain": [
       "335"
      ]
     },
     "execution_count": 50,
     "metadata": {},
     "output_type": "execute_result"
    }
   ],
   "source": [
    "label1"
   ]
  },
  {
   "cell_type": "code",
   "execution_count": 51,
   "id": "d9db7e55-dac0-4846-a749-24b8bb5c86b7",
   "metadata": {},
   "outputs": [],
   "source": [
    "all_characters = test_set._characters"
   ]
  },
  {
   "cell_type": "code",
   "execution_count": 52,
   "id": "908843cb-c299-420f-b3a7-0c27b38d3c46",
   "metadata": {},
   "outputs": [],
   "source": [
    "np_img = f'data/omniglot-py/images_evaluation/{all_characters[label1]}/{img1}'"
   ]
  },
  {
   "cell_type": "code",
   "execution_count": 53,
   "id": "f62fd521-dd25-490a-9cba-dc794cac5df6",
   "metadata": {},
   "outputs": [
    {
     "data": {
      "text/plain": [
       "(105, 105)"
      ]
     },
     "execution_count": 53,
     "metadata": {},
     "output_type": "execute_result"
    }
   ],
   "source": [
    "img = plt.imread(np_img)\n",
    "img.shape"
   ]
  },
  {
   "cell_type": "code",
   "execution_count": 54,
   "id": "fe462f80-fd4c-4a42-9af9-47e0daa906ee",
   "metadata": {},
   "outputs": [
    {
     "data": {
      "image/png": "[encoded data removed]",
      "text/plain": [
       "<Figure size 640x480 with 1 Axes>"
      ]
     },
     "metadata": {},
     "output_type": "display_data"
    }
   ],
   "source": [
    "plt.imshow(img, cmap='gray')\n",
    "plt.title(all_characters[label1])\n",
    "plt.xticks([]), plt.yticks([]) \n",
    "plt.show() "
   ]
  },
  {
   "cell_type": "code",
   "execution_count": null,
   "id": "a1f13f71-33aa-4ec3-9c48-bee113f397cf",
   "metadata": {},
   "outputs": [],
   "source": []
  }
 ],
 "metadata": {
  "kernelspec": {
   "display_name": "Pytorch",
   "language": "python",
   "name": "pytorch"
  },
  "language_info": {
   "codemirror_mode": {
    "name": "ipython",
    "version": 3
   },
   "file_extension": ".py",
   "mimetype": "text/x-python",
   "name": "python",
   "nbconvert_exporter": "python",
   "pygments_lexer": "ipython3",
   "version": "3.8.13"
  }
 },
 "nbformat": 4,
 "nbformat_minor": 5
}
